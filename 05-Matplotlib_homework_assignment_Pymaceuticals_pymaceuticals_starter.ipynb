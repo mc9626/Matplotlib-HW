{
 "cells": [
  {
   "cell_type": "markdown",
   "metadata": {},
   "source": [
    "## Observations and Insights"
   ]
  },
  {
   "cell_type": "markdown",
   "metadata": {},
   "source": []
  },
  {
   "cell_type": "markdown",
   "metadata": {},
   "source": [
    "## Dependencies and starter code"
   ]
  },
  {
   "cell_type": "code",
   "execution_count": 1,
   "metadata": {},
   "outputs": [
    {
     "data": {
      "text/html": [
       "<div>\n",
       "<style scoped>\n",
       "    .dataframe tbody tr th:only-of-type {\n",
       "        vertical-align: middle;\n",
       "    }\n",
       "\n",
       "    .dataframe tbody tr th {\n",
       "        vertical-align: top;\n",
       "    }\n",
       "\n",
       "    .dataframe thead th {\n",
       "        text-align: right;\n",
       "    }\n",
       "</style>\n",
       "<table border=\"1\" class=\"dataframe\">\n",
       "  <thead>\n",
       "    <tr style=\"text-align: right;\">\n",
       "      <th></th>\n",
       "      <th>Mouse ID</th>\n",
       "      <th>Drug Regimen</th>\n",
       "      <th>Sex</th>\n",
       "      <th>Age_months</th>\n",
       "      <th>Weight (g)</th>\n",
       "      <th>Timepoint</th>\n",
       "      <th>Tumor Volume (mm3)</th>\n",
       "      <th>Metastatic Sites</th>\n",
       "    </tr>\n",
       "  </thead>\n",
       "  <tbody>\n",
       "    <tr>\n",
       "      <td>0</td>\n",
       "      <td>k403</td>\n",
       "      <td>Ramicane</td>\n",
       "      <td>Male</td>\n",
       "      <td>21</td>\n",
       "      <td>16</td>\n",
       "      <td>0</td>\n",
       "      <td>45.000000</td>\n",
       "      <td>0</td>\n",
       "    </tr>\n",
       "    <tr>\n",
       "      <td>1</td>\n",
       "      <td>k403</td>\n",
       "      <td>Ramicane</td>\n",
       "      <td>Male</td>\n",
       "      <td>21</td>\n",
       "      <td>16</td>\n",
       "      <td>5</td>\n",
       "      <td>38.825898</td>\n",
       "      <td>0</td>\n",
       "    </tr>\n",
       "    <tr>\n",
       "      <td>2</td>\n",
       "      <td>k403</td>\n",
       "      <td>Ramicane</td>\n",
       "      <td>Male</td>\n",
       "      <td>21</td>\n",
       "      <td>16</td>\n",
       "      <td>10</td>\n",
       "      <td>35.014271</td>\n",
       "      <td>1</td>\n",
       "    </tr>\n",
       "    <tr>\n",
       "      <td>3</td>\n",
       "      <td>k403</td>\n",
       "      <td>Ramicane</td>\n",
       "      <td>Male</td>\n",
       "      <td>21</td>\n",
       "      <td>16</td>\n",
       "      <td>15</td>\n",
       "      <td>34.223992</td>\n",
       "      <td>1</td>\n",
       "    </tr>\n",
       "    <tr>\n",
       "      <td>4</td>\n",
       "      <td>k403</td>\n",
       "      <td>Ramicane</td>\n",
       "      <td>Male</td>\n",
       "      <td>21</td>\n",
       "      <td>16</td>\n",
       "      <td>20</td>\n",
       "      <td>32.997729</td>\n",
       "      <td>1</td>\n",
       "    </tr>\n",
       "  </tbody>\n",
       "</table>\n",
       "</div>"
      ],
      "text/plain": [
       "  Mouse ID Drug Regimen   Sex  Age_months  Weight (g)  Timepoint  \\\n",
       "0     k403     Ramicane  Male          21          16          0   \n",
       "1     k403     Ramicane  Male          21          16          5   \n",
       "2     k403     Ramicane  Male          21          16         10   \n",
       "3     k403     Ramicane  Male          21          16         15   \n",
       "4     k403     Ramicane  Male          21          16         20   \n",
       "\n",
       "   Tumor Volume (mm3)  Metastatic Sites  \n",
       "0           45.000000                 0  \n",
       "1           38.825898                 0  \n",
       "2           35.014271                 1  \n",
       "3           34.223992                 1  \n",
       "4           32.997729                 1  "
      ]
     },
     "execution_count": 1,
     "metadata": {},
     "output_type": "execute_result"
    }
   ],
   "source": [
    "# Dependencies and Setup\n",
    "import matplotlib.pyplot as plt\n",
    "import pandas as pd\n",
    "import scipy.stats as st\n",
    "import numpy as np\n",
    "\n",
    "# Study data files\n",
    "mouse_metadata = \"Mouse_metadata.csv\"\n",
    "study_results = \"Study_results.csv\"\n",
    "\n",
    "# Read the mouse data and the study results\n",
    "mouse_metadata_df = pd.read_csv(mouse_metadata)\n",
    "study_results_df = pd.read_csv(study_results)\n",
    "\n",
    "# Combine the data into a single dataset\n",
    "combined_results_df = pd.merge(mouse_metadata_df, study_results_df, how='outer', on='Mouse ID') \n",
    "combined_results_df.head(5)"
   ]
  },
  {
   "cell_type": "code",
   "execution_count": 2,
   "metadata": {},
   "outputs": [
    {
     "data": {
      "text/plain": [
       "array(['Ramicane', 'Capomulin', 'Infubinol', 'Placebo', 'Ceftamin',\n",
       "       'Stelasyn', 'Zoniferol', 'Ketapril', 'Propriva', 'Naftisol'],\n",
       "      dtype=object)"
      ]
     },
     "execution_count": 2,
     "metadata": {},
     "output_type": "execute_result"
    }
   ],
   "source": [
    "combined_results_df['Drug Regimen'].unique()"
   ]
  },
  {
   "cell_type": "markdown",
   "metadata": {},
   "source": [
    "## Summary statistics"
   ]
  },
  {
   "cell_type": "code",
   "execution_count": 3,
   "metadata": {},
   "outputs": [
    {
     "data": {
      "text/html": [
       "<div>\n",
       "<style scoped>\n",
       "    .dataframe tbody tr th:only-of-type {\n",
       "        vertical-align: middle;\n",
       "    }\n",
       "\n",
       "    .dataframe tbody tr th {\n",
       "        vertical-align: top;\n",
       "    }\n",
       "\n",
       "    .dataframe thead th {\n",
       "        text-align: right;\n",
       "    }\n",
       "</style>\n",
       "<table border=\"1\" class=\"dataframe\">\n",
       "  <thead>\n",
       "    <tr style=\"text-align: right;\">\n",
       "      <th></th>\n",
       "      <th>Mouse ID</th>\n",
       "      <th>Drug Regimen</th>\n",
       "      <th>Sex</th>\n",
       "      <th>Age_months</th>\n",
       "      <th>Weight (g)</th>\n",
       "      <th>Timepoint</th>\n",
       "      <th>Tumor Volume (mm3)</th>\n",
       "      <th>Metastatic Sites</th>\n",
       "    </tr>\n",
       "  </thead>\n",
       "  <tbody>\n",
       "    <tr>\n",
       "      <td>558</td>\n",
       "      <td>a818</td>\n",
       "      <td>Naftisol</td>\n",
       "      <td>Female</td>\n",
       "      <td>12</td>\n",
       "      <td>28</td>\n",
       "      <td>0</td>\n",
       "      <td>45.000000</td>\n",
       "      <td>0</td>\n",
       "    </tr>\n",
       "    <tr>\n",
       "      <td>559</td>\n",
       "      <td>a818</td>\n",
       "      <td>Naftisol</td>\n",
       "      <td>Female</td>\n",
       "      <td>12</td>\n",
       "      <td>28</td>\n",
       "      <td>5</td>\n",
       "      <td>45.696709</td>\n",
       "      <td>0</td>\n",
       "    </tr>\n",
       "  </tbody>\n",
       "</table>\n",
       "</div>"
      ],
      "text/plain": [
       "    Mouse ID Drug Regimen     Sex  Age_months  Weight (g)  Timepoint  \\\n",
       "558     a818     Naftisol  Female          12          28          0   \n",
       "559     a818     Naftisol  Female          12          28          5   \n",
       "\n",
       "     Tumor Volume (mm3)  Metastatic Sites  \n",
       "558           45.000000                 0  \n",
       "559           45.696709                 0  "
      ]
     },
     "execution_count": 3,
     "metadata": {},
     "output_type": "execute_result"
    }
   ],
   "source": [
    "#Separate by drug regimen\n",
    "\n",
    "cond1 = (combined_results_df['Drug Regimen'] == \"Ramicane\")\n",
    "Ramicane_df = combined_results_df[cond1]\n",
    "Ramicane_df.head(2)\n",
    "\n",
    "cond2 = (combined_results_df['Drug Regimen'] == \"Capomulin\")\n",
    "Capomulin_df = combined_results_df[cond2]\n",
    "Capomulin_df.head(2)\n",
    "\n",
    "cond3 = (combined_results_df['Drug Regimen'] == \"Infubinol\")\n",
    "Infubinol_df = combined_results_df[cond3]\n",
    "Infubinol_df.head(2)\n",
    "\n",
    "cond4 = (combined_results_df['Drug Regimen'] == \"Placebo\")\n",
    "Placebo_df = combined_results_df[cond4]\n",
    "Placebo_df.head(2)\n",
    "\n",
    "cond5 = (combined_results_df['Drug Regimen'] == \"Ceftamin\")\n",
    "Ceftamin_df = combined_results_df[cond5]\n",
    "Ceftamin_df.head(2)\n",
    "\n",
    "cond6 = (combined_results_df['Drug Regimen'] == \"Stelasyn\")\n",
    "Stelasyn_df = combined_results_df[cond6]\n",
    "Stelasyn_df.head(2)\n",
    "\n",
    "cond7 = (combined_results_df['Drug Regimen'] == \"Zoniferol\")\n",
    "Zoniferol_df = combined_results_df[cond7]\n",
    "Zoniferol_df.head(2)\n",
    "\n",
    "cond8 = (combined_results_df['Drug Regimen'] == \"Ketapril\")\n",
    "Ketapril_df = combined_results_df[cond8]\n",
    "Ketapril_df.head(2)\n",
    "\n",
    "cond9 = (combined_results_df['Drug Regimen'] == \"Propriva\")\n",
    "Propriva_df = combined_results_df[cond9]\n",
    "Propriva_df.head(2)\n",
    "\n",
    "cond10 = (combined_results_df['Drug Regimen'] == \"Naftisol\")\n",
    "Naftisol_df = combined_results_df[cond10]\n",
    "Naftisol_df.head(2)"
   ]
  },
  {
   "cell_type": "code",
   "execution_count": 4,
   "metadata": {},
   "outputs": [],
   "source": [
    "# Generate a summary statistics table of mean, median, variance, standard deviation, and SEM of the tumor volume for each regimen\n",
    "#ramicane_mean = Ramicane_df[\"Tumor Volume (mm3)\"].mean()\n",
    "ramicane_mean = Ramicane_df['Tumor Volume (mm3)'].mean()\n",
    "ramicane_median = Ramicane_df['Tumor Volume (mm3)'].median()\n",
    "ramicane_var = Ramicane_df['Tumor Volume (mm3)'].var()\n",
    "ramicane_std = Ramicane_df['Tumor Volume (mm3)'].std()\n",
    "ramicane_sem = Ramicane_df['Tumor Volume (mm3)'].sem()\n",
    "\n",
    "Capomulin_mean = Capomulin_df['Tumor Volume (mm3)'].mean()\n",
    "Capomulin_median = Capomulin_df['Tumor Volume (mm3)'].median()\n",
    "Capomulin_var = Capomulin_df['Tumor Volume (mm3)'].var()\n",
    "Capomulin_std = Capomulin_df['Tumor Volume (mm3)'].std()\n",
    "Capomulin_sem = Capomulin_df['Tumor Volume (mm3)'].sem()\n",
    "\n",
    "Infubinol_mean = Infubinol_df['Tumor Volume (mm3)'].mean()\n",
    "Infubinol_median = Infubinol_df['Tumor Volume (mm3)'].median()\n",
    "Infubinol_var = Infubinol_df['Tumor Volume (mm3)'].var()\n",
    "Infubinol_std = Infubinol_df['Tumor Volume (mm3)'].std()\n",
    "Infubinol_sem = Infubinol_df['Tumor Volume (mm3)'].sem()\n",
    "\n",
    "Placebo_mean = Placebo_df['Tumor Volume (mm3)'].mean()\n",
    "Placebo_median = Placebo_df['Tumor Volume (mm3)'].median()\n",
    "Placebo_var = Placebo_df['Tumor Volume (mm3)'].var()\n",
    "Placebo_std = Placebo_df['Tumor Volume (mm3)'].std()\n",
    "Placebo_sem = Placebo_df['Tumor Volume (mm3)'].sem()\n",
    "\n",
    "Ceftamin_mean = Ceftamin_df['Tumor Volume (mm3)'].mean()\n",
    "Ceftamin_median = Ceftamin_df['Tumor Volume (mm3)'].median()\n",
    "Ceftamin_var = Ceftamin_df['Tumor Volume (mm3)'].var()\n",
    "Ceftamin_std = Ceftamin_df['Tumor Volume (mm3)'].std()\n",
    "Ceftamin_sem = Ceftamin_df['Tumor Volume (mm3)'].sem()\n",
    "\n",
    "Stelasyn_mean = Stelasyn_df['Tumor Volume (mm3)'].mean()\n",
    "Stelasyn_median = Stelasyn_df['Tumor Volume (mm3)'].median()\n",
    "Stelasyn_var = Stelasyn_df['Tumor Volume (mm3)'].var()\n",
    "Stelasyn_std = Stelasyn_df['Tumor Volume (mm3)'].std()\n",
    "Stelasyn_sem = Stelasyn_df['Tumor Volume (mm3)'].sem()\n",
    "\n",
    "Zoniferol_mean = Zoniferol_df['Tumor Volume (mm3)'].mean()\n",
    "Zoniferol_median = Zoniferol_df['Tumor Volume (mm3)'].median()\n",
    "Zoniferol_var = Zoniferol_df['Tumor Volume (mm3)'].var()\n",
    "Zoniferol_std = Zoniferol_df['Tumor Volume (mm3)'].std()\n",
    "Zoniferol_sem = Zoniferol_df['Tumor Volume (mm3)'].sem()\n",
    "\n",
    "Ketapril_mean = Ketapril_df['Tumor Volume (mm3)'].mean()\n",
    "Ketapril_median = Ketapril_df['Tumor Volume (mm3)'].median()\n",
    "Ketapril_var = Ketapril_df['Tumor Volume (mm3)'].var()\n",
    "Ketapril_std = Ketapril_df['Tumor Volume (mm3)'].std()\n",
    "Ketapril_sem = Ketapril_df['Tumor Volume (mm3)'].sem()\n",
    "\n",
    "Propriva_mean = Propriva_df['Tumor Volume (mm3)'].mean()\n",
    "Propriva_median = Propriva_df['Tumor Volume (mm3)'].median()\n",
    "Propriva_var = Propriva_df['Tumor Volume (mm3)'].var()\n",
    "Propriva_std = Propriva_df['Tumor Volume (mm3)'].std()\n",
    "Propriva_sem = Propriva_df['Tumor Volume (mm3)'].sem()\n",
    "\n",
    "Naftisol_mean = Naftisol_df['Tumor Volume (mm3)'].mean()\n",
    "Naftisol_median = Naftisol_df['Tumor Volume (mm3)'].median()\n",
    "Naftisol_var = Naftisol_df['Tumor Volume (mm3)'].var()\n",
    "Naftisol_std = Naftisol_df['Tumor Volume (mm3)'].std()\n",
    "Naftisol_sem = Naftisol_df['Tumor Volume (mm3)'].sem()\n",
    "\n",
    "#print(f\"The SEM value for the sample fuel economy data is {sem(sample.Combined_MPG)}\")\n",
    "#sample.mean()\n",
    "#Ramicane_df[\"variance\"] = Ramicane_df['Tumor Volume (mm3)'].var()\n",
    "#data = {'Regimen':['Ramicane'],'Mean':[ramicane_mean], 'Median':[ramicane_median]}\n",
    "#summary_df = pd.Dataframe(data)"
   ]
  },
  {
   "cell_type": "code",
   "execution_count": 5,
   "metadata": {},
   "outputs": [
    {
     "name": "stdout",
     "output_type": "stream",
     "text": [
      "           0\n",
      "0   Ramicane\n",
      "1  Capomulin\n",
      "2  Infubinol\n",
      "3    Placebo\n",
      "4   Ceftamin\n",
      "5   Stelasyn\n",
      "6  Zoniferol\n",
      "7   Ketapril\n",
      "8   Propriva\n",
      "9   Naftisol\n"
     ]
    }
   ],
   "source": [
    "lst = ['Ramicane', 'Capomulin', 'Infubinol', 'Placebo', 'Ceftamin',\n",
    "       'Stelasyn', 'Zoniferol', 'Ketapril', 'Propriva', 'Naftisol']\n",
    "df = pd.DataFrame(lst) \n",
    "df\n",
    "print(df)"
   ]
  },
  {
   "cell_type": "code",
   "execution_count": 6,
   "metadata": {},
   "outputs": [
    {
     "name": "stdout",
     "output_type": "stream",
     "text": [
      "       Brand       Mean     Median   Variance  Std. Deviation       SEM\n",
      "0   Ramicane  40.216745  40.673236  23.486704        4.846308  0.320955\n",
      "1  Capomulin  40.675741  41.557809  24.947764        4.994774  0.329346\n",
      "2  Infubinol  52.884795  51.820584  43.128684        6.567243  0.492236\n",
      "3    Placebo  54.033581  52.288934  61.168083        7.821003  0.581331\n",
      "4   Ceftamin  52.591172  51.776157  39.290177        6.268188  0.469821\n",
      "5   Stelasyn  54.233149  52.431737  59.450562        7.710419  0.573111\n",
      "6  Zoniferol  53.236507  51.818479  48.533355        6.966589  0.516398\n",
      "7   Ketapril  55.235638  53.698743  68.553577        8.279709  0.603860\n",
      "8   Propriva  52.322552  50.854632  42.351070        6.507770  0.512884\n",
      "9   Naftisol  54.331565  52.509285  66.173479        8.134708  0.596466\n"
     ]
    }
   ],
   "source": [
    "data2 = {'Brand': ['Ramicane', 'Capomulin','Infubinol','Placebo','Ceftamin','Stelasyn', 'Zoniferol', 'Ketapril', 'Propriva', 'Naftisol'],\n",
    "        'Mean': [ramicane_mean,Capomulin_mean,Infubinol_mean,Placebo_mean,Ceftamin_mean,Stelasyn_mean,Zoniferol_mean,Ketapril_mean,Propriva_mean,Naftisol_mean],\n",
    "        'Median': [ramicane_median,Capomulin_median,Infubinol_median,Placebo_median,Ceftamin_median,Stelasyn_median,Zoniferol_median,Ketapril_median,Propriva_median,Naftisol_median],\n",
    "        'Variance': [ramicane_var, Capomulin_var,Infubinol_var,Placebo_var,Ceftamin_var,Stelasyn_var,Zoniferol_var,Ketapril_var,Propriva_var,Naftisol_var],\n",
    "        'Std. Deviation':[ramicane_std,Capomulin_std,Infubinol_std,Placebo_std,Ceftamin_std,Stelasyn_std,Zoniferol_std,Ketapril_std,Propriva_std,Naftisol_std],\n",
    "        'SEM': [ramicane_sem,Capomulin_sem,Infubinol_sem,Placebo_sem,Ceftamin_sem,Stelasyn_sem,Zoniferol_sem,Ketapril_sem,Propriva_sem,Naftisol_sem]\n",
    "        }\n",
    "df = pd.DataFrame(data2) \n",
    "print(df)"
   ]
  },
  {
   "cell_type": "code",
   "execution_count": 7,
   "metadata": {},
   "outputs": [],
   "source": [
    "count1 = Ramicane_df[\"Mouse ID\"].count()\n",
    "count2 = Capomulin_df[\"Mouse ID\"].count()\n",
    "count3 = Infubinol_df[\"Mouse ID\"].count()\n",
    "count4 = Placebo_df[\"Mouse ID\"].count()\n",
    "count5 = Ceftamin_df[\"Mouse ID\"].count()\n",
    "count6 = Stelasyn_df[\"Mouse ID\"].count()\n",
    "count7 = Zoniferol_df[\"Mouse ID\"].count()\n",
    "count8 = Ketapril_df[\"Mouse ID\"].count()\n",
    "count9 = Propriva_df[\"Mouse ID\"].count()\n",
    "count10 = Naftisol_df[\"Mouse ID\"].count()\n",
    "\n"
   ]
  },
  {
   "cell_type": "markdown",
   "metadata": {},
   "source": [
    "## Bar plots"
   ]
  },
  {
   "cell_type": "code",
   "execution_count": 8,
   "metadata": {},
   "outputs": [
    {
     "data": {
      "image/png": "[encoded data removed]",
      "text/plain": [
       "<Figure size 432x288 with 1 Axes>"
      ]
     },
     "metadata": {
      "needs_background": "light"
     },
     "output_type": "display_data"
    }
   ],
   "source": [
    "# Generate a bar plot showing number of data points for each treatment regimen using pandas\n",
    "drugregimen = combined_results_df[\"Drug Regimen\"].value_counts()\n",
    "\n",
    "\n",
    "drugregimen.plot(kind=\"bar\", alpha=0.5, facecolor=\"red\")\n",
    "\n",
    "# Set textual properties (title, x and y labels)\n",
    "plt.title(\"Number of Data Points vs Treament Regimen\")\n",
    "plt.xlabel(\"Drug Regimens\")\n",
    "plt.ylabel(\"Number of Data Points\")\n",
    "\n",
    "# Show plot\n",
    "plt.show()"
   ]
  },
  {
   "cell_type": "code",
   "execution_count": 9,
   "metadata": {},
   "outputs": [
    {
     "data": {
      "image/png": "[encoded data removed]",
      "text/plain": [
       "<Figure size 432x288 with 1 Axes>"
      ]
     },
     "metadata": {
      "needs_background": "light"
     },
     "output_type": "display_data"
    }
   ],
   "source": [
    "# Generate a bar plot showing number of data points for each treatment regimen using pyplot\n",
    "\n",
    "fig = plt.figure()\n",
    "\n",
    "regimens = ['Ramicane', 'Capomulin', 'Infubinol', 'Placebo', 'Ceftamin',\n",
    "       'Stelasyn', 'Zoniferol', 'Ketapril', 'Propriva', 'Naftisol']\n",
    "number_datapts = [count1,count2,count3,count4,count5,count6,count7,count8,count9,count10]\n",
    "x_axis = np.arange(len(regimens))\n",
    "tick_locations = [value for value in x_axis]\n",
    "#Plot bar chart\n",
    "plt.bar(x_axis, number_datapts, align='center', alpha=0.5)\n",
    "#plt.xticks(x_axis, regimens)\n",
    "plt.xticks(tick_locations, regimens, rotation=\"45\")\n",
    "plt.ylabel('Number of Data Points')\n",
    "plt.title('Number of Data Points vs Treament Regimen')\n",
    "\n",
    "plt.show()\n"
   ]
  },
  {
   "cell_type": "markdown",
   "metadata": {},
   "source": [
    "## Pie plots"
   ]
  },
  {
   "cell_type": "code",
   "execution_count": 10,
   "metadata": {},
   "outputs": [
    {
     "data": {
      "image/png": "[encoded data removed]",
      "text/plain": [
       "<Figure size 432x288 with 1 Axes>"
      ]
     },
     "metadata": {},
     "output_type": "display_data"
    }
   ],
   "source": [
    "# Generate a pie plot showing the distribution of female versus male mice using pandas\n",
    "gender = combined_results_df[\"Sex\"].value_counts()\n",
    "gender.plot(kind=\"pie\", autopct=\"%1.1f%%\", counterclock=False, startangle=90, wedgeprops={'alpha':0.5})\n",
    "\n",
    "# Set text properties\n",
    "plt.title(\"Percentage of Sex of Mice\") \n",
    "plt.ylabel(\"\")\n",
    "plt.axis(\"equal\")\n",
    "\n",
    "# Show chart\n",
    "plt.show()"
   ]
  },
  {
   "cell_type": "code",
   "execution_count": 11,
   "metadata": {},
   "outputs": [
    {
     "data": {
      "text/plain": [
       "Male      958\n",
       "Female    935\n",
       "Name: Sex, dtype: int64"
      ]
     },
     "execution_count": 11,
     "metadata": {},
     "output_type": "execute_result"
    }
   ],
   "source": [
    "gender = combined_results_df[\"Sex\"].value_counts()\n",
    "gender"
   ]
  },
  {
   "cell_type": "code",
   "execution_count": 12,
   "metadata": {},
   "outputs": [
    {
     "data": {
      "image/png": "[encoded data removed]",
      "text/plain": [
       "<Figure size 432x288 with 1 Axes>"
      ]
     },
     "metadata": {},
     "output_type": "display_data"
    }
   ],
   "source": [
    "# Generate a pie plot showing the distribution of female versus male mice using pyplot\n",
    "gender2 = [\"Male\",\"Female\"]\n",
    "number = [958, 935]\n",
    "x_axis = np.arange(0, len(gender2))\n",
    "colors = [\"lightcoral\", \"lightskyblue\"]\n",
    "explode = (0, 0.05)\n",
    "\n",
    "fig2 = plt.figure()\n",
    "plt.pie(number, labels=gender2, colors=colors, autopct=\"%1.0f%%\", counterclock=False, startangle=90, wedgeprops={'alpha':0.5})\n",
    "plt.show()"
   ]
  },
  {
   "cell_type": "markdown",
   "metadata": {},
   "source": [
    "## Quartiles, outliers and boxplots"
   ]
  },
  {
   "cell_type": "code",
   "execution_count": 13,
   "metadata": {},
   "outputs": [
    {
     "data": {
      "text/html": [
       "<div>\n",
       "<style scoped>\n",
       "    .dataframe tbody tr th:only-of-type {\n",
       "        vertical-align: middle;\n",
       "    }\n",
       "\n",
       "    .dataframe tbody tr th {\n",
       "        vertical-align: top;\n",
       "    }\n",
       "\n",
       "    .dataframe thead th {\n",
       "        text-align: right;\n",
       "    }\n",
       "</style>\n",
       "<table border=\"1\" class=\"dataframe\">\n",
       "  <thead>\n",
       "    <tr style=\"text-align: right;\">\n",
       "      <th></th>\n",
       "      <th>Mouse ID</th>\n",
       "      <th>Drug Regimen</th>\n",
       "      <th>Sex</th>\n",
       "      <th>Age_months</th>\n",
       "      <th>Weight (g)</th>\n",
       "      <th>Timepoint</th>\n",
       "      <th>Tumor Volume (mm3)</th>\n",
       "      <th>Metastatic Sites</th>\n",
       "    </tr>\n",
       "  </thead>\n",
       "  <tbody>\n",
       "    <tr>\n",
       "      <td>0</td>\n",
       "      <td>k403</td>\n",
       "      <td>Ramicane</td>\n",
       "      <td>Male</td>\n",
       "      <td>21</td>\n",
       "      <td>16</td>\n",
       "      <td>0</td>\n",
       "      <td>45.000000</td>\n",
       "      <td>0</td>\n",
       "    </tr>\n",
       "    <tr>\n",
       "      <td>1</td>\n",
       "      <td>k403</td>\n",
       "      <td>Ramicane</td>\n",
       "      <td>Male</td>\n",
       "      <td>21</td>\n",
       "      <td>16</td>\n",
       "      <td>5</td>\n",
       "      <td>38.825898</td>\n",
       "      <td>0</td>\n",
       "    </tr>\n",
       "    <tr>\n",
       "      <td>2</td>\n",
       "      <td>k403</td>\n",
       "      <td>Ramicane</td>\n",
       "      <td>Male</td>\n",
       "      <td>21</td>\n",
       "      <td>16</td>\n",
       "      <td>10</td>\n",
       "      <td>35.014271</td>\n",
       "      <td>1</td>\n",
       "    </tr>\n",
       "    <tr>\n",
       "      <td>3</td>\n",
       "      <td>k403</td>\n",
       "      <td>Ramicane</td>\n",
       "      <td>Male</td>\n",
       "      <td>21</td>\n",
       "      <td>16</td>\n",
       "      <td>15</td>\n",
       "      <td>34.223992</td>\n",
       "      <td>1</td>\n",
       "    </tr>\n",
       "    <tr>\n",
       "      <td>4</td>\n",
       "      <td>k403</td>\n",
       "      <td>Ramicane</td>\n",
       "      <td>Male</td>\n",
       "      <td>21</td>\n",
       "      <td>16</td>\n",
       "      <td>20</td>\n",
       "      <td>32.997729</td>\n",
       "      <td>1</td>\n",
       "    </tr>\n",
       "  </tbody>\n",
       "</table>\n",
       "</div>"
      ],
      "text/plain": [
       "  Mouse ID Drug Regimen   Sex  Age_months  Weight (g)  Timepoint  \\\n",
       "0     k403     Ramicane  Male          21          16          0   \n",
       "1     k403     Ramicane  Male          21          16          5   \n",
       "2     k403     Ramicane  Male          21          16         10   \n",
       "3     k403     Ramicane  Male          21          16         15   \n",
       "4     k403     Ramicane  Male          21          16         20   \n",
       "\n",
       "   Tumor Volume (mm3)  Metastatic Sites  \n",
       "0           45.000000                 0  \n",
       "1           38.825898                 0  \n",
       "2           35.014271                 1  \n",
       "3           34.223992                 1  \n",
       "4           32.997729                 1  "
      ]
     },
     "execution_count": 13,
     "metadata": {},
     "output_type": "execute_result"
    }
   ],
   "source": [
    "#RC_df = pd.merge(Ramicane_df, Capomulin_df, how='outer', on='Tumor Volume (mm3)')\n",
    "#RCI_df = pd.merge(RC_df, Infubinol_df, how='outer', on='Tumor Volume (mm3)')\n",
    "#topfour_df = pd.merge(RCI_df, Ceftamin_df,how='outer', on='Tumor Volume (mm3)') \n",
    "#topfour_df.head(20)\n",
    "\n",
    "#best_treatment_df = combined_results_df.loc[(combined_results_df['Drug Regimen'] == \"Ramicane\")&\n",
    "                                      #  (combined_results_df['Drug Regimen'] == \"Capomulin\")&\n",
    "                                        #(combined_results_df['Drug Regimen'] == \"Infubinol\")&\n",
    "                                        #(combined_results_df['Drug Regimen'] == \"Ceftamin\")]\n",
    "best_treatment_df = combined_results_df[combined_results_df['Drug Regimen'].str.match(\"Ramicane|Capomulin|Infubinol|Ceftamin\")]\n",
    "best_treatment_df.head()"
   ]
  },
  {
   "cell_type": "code",
   "execution_count": 14,
   "metadata": {},
   "outputs": [
    {
     "name": "stdout",
     "output_type": "stream",
     "text": [
      "The lower quartile of temperatures is: 40.2201707875\n",
      "The upper quartile of temperatures is: 50.356470630000004\n",
      "The interquartile range of temperatures is: 10.136299842500001\n",
      "The the median of temperatures is: 45.0 \n",
      "Values below 25.01572102375 could be outliers.\n",
      "Values above 65.56092039375001 could be outliers.\n"
     ]
    }
   ],
   "source": [
    "quartiles = best_treatment_df['Tumor Volume (mm3)'].quantile([.25,.5,.75])\n",
    "lowerq = quartiles[0.25]\n",
    "upperq = quartiles[0.75]\n",
    "iqr = upperq-lowerq\n",
    "print(f\"The lower quartile of temperatures is: {lowerq}\")\n",
    "print(f\"The upper quartile of temperatures is: {upperq}\")\n",
    "print(f\"The interquartile range of temperatures is: {iqr}\")\n",
    "print(f\"The the median of temperatures is: {quartiles[0.5]} \")\n",
    "\n",
    "lower_bound = lowerq - (1.5*iqr)\n",
    "upper_bound = upperq + (1.5*iqr)\n",
    "print(f\"Values below {lower_bound} could be outliers.\")\n",
    "print(f\"Values above {upper_bound} could be outliers.\") "
   ]
  },
  {
   "cell_type": "code",
   "execution_count": 15,
   "metadata": {},
   "outputs": [
    {
     "data": {
      "image/png": "[encoded data removed]",
      "text/plain": [
       "<Figure size 432x288 with 1 Axes>"
      ]
     },
     "metadata": {
      "needs_background": "light"
     },
     "output_type": "display_data"
    }
   ],
   "source": [
    "# Generate a box plot of the final tumor volume of each mouse across four regimens of interest\n",
    "plt.boxplot(best_treatment_df[\"Tumor Volume (mm3)\"])\n",
    "plt.title('Tumor Volume of Top Four Drug Regimens')\n",
    "plt.ylabel('Volume of Tumor (mm3)')\n",
    "plt.show()"
   ]
  },
  {
   "cell_type": "markdown",
   "metadata": {},
   "source": [
    "## Line and scatter plots"
   ]
  },
  {
   "cell_type": "code",
   "execution_count": 28,
   "metadata": {},
   "outputs": [
    {
     "data": {
      "image/png": "[encoded data removed]",
      "text/plain": [
       "<Figure size 432x288 with 1 Axes>"
      ]
     },
     "metadata": {
      "needs_background": "light"
     },
     "output_type": "display_data"
    }
   ],
   "source": [
    "# Generate a line plot of time point versus tumor volume for a mouse treated with Capomulin\n",
    "capomulin_df = combined_results_df[combined_results_df['Drug Regimen'].str.match(\"Capomulin\")]\n",
    "s185_df = capomulin_df[capomulin_df['Mouse ID'].str.match(\"s185\")]\n",
    "#s185_df \n",
    "\n",
    "time = s185_df[\"Timepoint\"]\n",
    "tumorsize = s185_df[\"Tumor Volume (mm3)\"]\n",
    "\n",
    "plt.plot(time, tumorsize, label=\"World Average\")\n",
    "plt.ylabel('Tumor Volume (mm3)')\n",
    "plt.xlabel('Timepoint')\n",
    "plt.title('Tumor Volume (mm3) over time')\n",
    "plt.show()"
   ]
  },
  {
   "cell_type": "code",
   "execution_count": 31,
   "metadata": {},
   "outputs": [
    {
     "data": {
      "text/plain": [
       "array([17, 15, 19, 20, 21, 22, 23, 25, 24])"
      ]
     },
     "execution_count": 31,
     "metadata": {},
     "output_type": "execute_result"
    }
   ],
   "source": [
    "capomulin_df['Weight (g)'].unique()"
   ]
  },
  {
   "cell_type": "code",
   "execution_count": 38,
   "metadata": {},
   "outputs": [],
   "source": [
    "# Generate a scatter plot of mouse weight versus average tumor volume for the Capomulin regimen\n",
    "no17_df = capomulin_df[capomulin_df['Weight (g)'] == 17]\n",
    "no15_df = capomulin_df[capomulin_df['Weight (g)'] == 15]\n",
    "no19_df = capomulin_df[capomulin_df['Weight (g)'] == 19]\n",
    "no20_df = capomulin_df[capomulin_df['Weight (g)'] == 20]\n",
    "no21_df = capomulin_df[capomulin_df['Weight (g)'] == 21]\n",
    "no23_df = capomulin_df[capomulin_df['Weight (g)'] == 23]\n",
    "no22_df = capomulin_df[capomulin_df['Weight (g)'] == 22]\n",
    "no25_df = capomulin_df[capomulin_df['Weight (g)'] == 25]\n",
    "no24_df = capomulin_df[capomulin_df['Weight (g)'] == 24]\n",
    "\n",
    "mean17 = no17_df['Tumor Volume (mm3)'].mean()\n",
    "mean15 = no15_df['Tumor Volume (mm3)'].mean()\n",
    "mean19 = no19_df['Tumor Volume (mm3)'].mean()\n",
    "mean20 = no20_df['Tumor Volume (mm3)'].mean()\n",
    "mean21 = no21_df['Tumor Volume (mm3)'].mean()\n",
    "mean23 = no23_df['Tumor Volume (mm3)'].mean()\n",
    "mean22 = no22_df['Tumor Volume (mm3)'].mean()\n",
    "mean25 = no25_df['Tumor Volume (mm3)'].mean()\n",
    "mean24 = no24_df['Tumor Volume (mm3)'].mean()"
   ]
  },
  {
   "cell_type": "code",
   "execution_count": 39,
   "metadata": {},
   "outputs": [
    {
     "data": {
      "image/png": "[encoded data removed]",
      "text/plain": [
       "<Figure size 432x288 with 1 Axes>"
      ]
     },
     "metadata": {
      "needs_background": "light"
     },
     "output_type": "display_data"
    }
   ],
   "source": [
    "weight = [17, 15, 19, 20, 21, 23, 22, 25, 24]\n",
    "tumorsize2 = [mean17, mean15, mean19, mean20, mean21, mean23 ,mean22,mean25,mean24 ]\n",
    "\n",
    "plt.scatter(weight, tumorsize2)\n",
    "\n",
    "plt.ylabel(\"Avg. Tumor Volume (mm3)\")\n",
    "plt.xlabel(\"Weight (g)\")\n",
    "plt.title(\"Avg. Tumor Volume (mm3) vs Weight (g)\")\n",
    "plt.show()"
   ]
  },
  {
   "cell_type": "code",
   "execution_count": 54,
   "metadata": {},
   "outputs": [
    {
     "data": {
      "image/png": "[encoded data removed]",
      "text/plain": [
       "<Figure size 432x288 with 1 Axes>"
      ]
     },
     "metadata": {
      "needs_background": "light"
     },
     "output_type": "display_data"
    },
    {
     "data": {
      "text/plain": [
       "array([[1.       , 0.9505244],\n",
       "       [0.9505244, 1.       ]])"
      ]
     },
     "execution_count": 54,
     "metadata": {},
     "output_type": "execute_result"
    }
   ],
   "source": [
    "# Calculate the correlation coefficient and linear regression model for mouse weight and average tumor volume for the Capomulin regimen\n",
    "\n",
    "plt.scatter(weight, tumorsize2)\n",
    "\n",
    "plt.ylabel(\"Avg. Tumor Volume (mm3)\")\n",
    "plt.xlabel(\"Weight (g)\")\n",
    "plt.title(\"Avg. Tumor Volume (mm3) vs Weight (g)\")\n",
    "r = np.corrcoef(weight, tumorsize2)\n",
    "coef = np.polyfit(weight,tumorsize2,1)\n",
    "poly1d_fn = np.poly1d(coef) \n",
    "\n",
    "plt.plot(weight,tumorsize2, 'yo', weight, poly1d_fn(weight))\n",
    "plt.show()\n",
    "r\n",
    "#plt.plot(weight,male_fit[0]*df_males.Height+male_fit[1], color='darkblue', linewidth=2)"
   ]
  },
  {
   "cell_type": "code",
   "execution_count": null,
   "metadata": {},
   "outputs": [],
   "source": []
  }
 ],
 "metadata": {
  "anaconda-cloud": {},
  "kernelspec": {
   "display_name": "Python 3",
   "language": "python",
   "name": "python3"
  },
  "language_info": {
   "codemirror_mode": {
    "name": "ipython",
    "version": 3
   },
   "file_extension": ".py",
   "mimetype": "text/x-python",
   "name": "python",
   "nbconvert_exporter": "python",
   "pygments_lexer": "ipython3",
   "version": "3.7.4"
  }
 },
 "nbformat": 4,
 "nbformat_minor": 2
}
